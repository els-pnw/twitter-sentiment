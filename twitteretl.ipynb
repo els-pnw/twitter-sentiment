{
 "cells": [
  {
   "cell_type": "markdown",
   "source": [
    "# Analyze Tweets\n",
    "## With tweepy and pandas\n",
    "### By: Eric L. Sammons <elsammons@gmail.com>\n",
    "---\n",
    "### Purpose\n",
    "<table style=\"width:75%\">\n",
    "    <tr>\n",
    "        <td>\n",
    "            This project is to provide the user / reader with an introduction into social media sentiment analysis. We'll leverage the nltk sentiment vader library and dictionary.\n",
    "        </td>\n",
    "        <td>\n",
    "            <img src=\"https://upload.wikimedia.org/wikipedia/commons/e/ed/Pandas_logo.svg\" width=\"125\" height=\"75\">\n",
    "            <img src=\"https://static1.squarespace.com/static/538cea80e4b00f1fad490c1b/54668a77e4b00fb778d22a34/54668d8ae4b00fb778d285a2/1416007414694/python_nltk.png\" width=\"125\" height=\"75\">\n",
    "            <img src=\"https://twilio-cms-prod.s3.amazonaws.com/images/twitter-python-logos.width-808.jpg\" width=\"125\" height=\"75\">\n",
    "        </td>\n",
    "    </tr>\n",
    "</table>\n",
    "\n",
    "### Sentiment Analysis\n",
    "<table style=\"width:75%\">\n",
    "    <tr>\n",
    "        <td>\n",
    "            Defined as the use of natural language processing, text analysis, computational linguistics, and biometrics to systematically identify, extract, quantify, and study affective states and subjective information.\n",
    "        </td>\n",
    "    </tr>\n",
    "</table>\n",
    "\n",
    "### Before You Begin\n",
    "<table style=\"width:75%\">\n",
    "    <tr>\n",
    "        <td>\n",
    "            You will need to have a bearer token from Twitter\n",
    "        </td>\n",
    "        <td>\n",
    "            <a href=\"https://developer.twitter.com/en/docs/authentication/oauth-2-0/bearer-tokens\">\n",
    "                Using and Generating Bearer Tokens\n",
    "            </a>\n",
    "        </td>\n",
    "    </tr>\n",
    "</table>\n",
    "\n",
    "### Getting Started\n",
    "<table style=\"width:75%\">\n",
    "    <tr>\n",
    "        <td>\n",
    "            To use this notebook you will need to set up a <strong>.env</strong> file in root folder of this project.  The minimum values required are shown to the right.\n",
    "        </td>\n",
    "        <td>\n",
    "            CONSUMER_KEY=\"xxxxxx\"<p>\n",
    "            CONSUMER_SECRET=\"xxxxxxxxxxx\"<p>\n",
    "            ACCESS_KEY=\"xxxxxxxxxxxx\"<p>\n",
    "            ACCESS_SECRET=\"xxxxxxxxxxxx\"<p>\n",
    "        </td>\n",
    "    </tr>\n",
    " </table>"
   ],
   "metadata": {}
  },
  {
   "cell_type": "code",
   "execution_count": 1,
   "source": [
    "# Install requirements.\n",
    "!pip install -Uqr requirements.txt"
   ],
   "outputs": [],
   "metadata": {}
  },
  {
   "cell_type": "code",
   "execution_count": 2,
   "source": [
    "# We'll need these\n",
    "from dotenv import find_dotenv, load_dotenv\n",
    "import os\n",
    "import tweepy\n",
    "import datetime\n",
    "import json\n",
    "import pandas as pd\n",
    "from nltk import download\n",
    "from nltk.sentiment.vader import SentimentIntensityAnalyzer\n",
    "\n",
    "# download vader_lexicon\n",
    "download('vader_lexicon')\n",
    "\n",
    "# Import our helper functions and configs\n",
    "import search\n",
    "from lib.helper_functions import flatten_tweets\n",
    "from lib.helper_functions import calculateCentroid\n",
    "\n",
    "from IPython.core.display import HTML"
   ],
   "outputs": [
    {
     "output_type": "stream",
     "name": "stderr",
     "text": [
      "[nltk_data] Downloading package vader_lexicon to\n",
      "[nltk_data]     /Users/esammons/nltk_data...\n",
      "[nltk_data]   Package vader_lexicon is already up-to-date!\n"
     ]
    }
   ],
   "metadata": {}
  },
  {
   "cell_type": "code",
   "execution_count": 3,
   "source": [
    "load_dotenv(find_dotenv()) # load our .env file.\n",
    "\n",
    "# Set up our bearer token.\n",
    "auth = tweepy.OAuthHandler(os.environ['CONSUMER_KEY'], os.environ['CONSUMER_SECRET'])\n",
    "auth.set_access_token(os.environ['ACCESS_KEY'], os.environ['ACCESS_SECRET'])\n",
    "\n",
    "# Set api options\n",
    "api = tweepy.API(auth,wait_on_rate_limit=True)"
   ],
   "outputs": [],
   "metadata": {}
  },
  {
   "cell_type": "code",
   "execution_count": 4,
   "source": [
    "print(f\"Searching {search.DAYS} days of tweets.\")\n",
    "today = datetime.date.today() # starting from today\n",
    "p_days= today - datetime.timedelta(days=search.DAYS) # prior days to look back"
   ],
   "outputs": [
    {
     "output_type": "stream",
     "name": "stdout",
     "text": [
      "Searching 7 days of tweets.\n"
     ]
    }
   ],
   "metadata": {}
  },
  {
   "cell_type": "code",
   "execution_count": 5,
   "source": [
    "# Instantiate the tweepy client\n",
    "tweets_list = tweepy.Cursor(api.search, \n",
    "                            q=search.SEARCH + \"since: \" + str(p_days), \n",
    "                            tweet_mode='extended', \n",
    "                            ).items()"
   ],
   "outputs": [],
   "metadata": {}
  },
  {
   "cell_type": "code",
   "execution_count": 6,
   "source": [
    "# Let's grab some tweets.\n",
    "tweets = []\n",
    "\n",
    "for tweet in tweets_list:\n",
    "    tweets.append(json.dumps(tweet._json))"
   ],
   "outputs": [],
   "metadata": {}
  },
  {
   "cell_type": "markdown",
   "source": [
    "With our list of <strong>tweets</strong> we will now create our dataframe.\n",
    "\n",
    "Once the dataframe is created we'll:\n",
    "* Leverage our flatten tweets function to make specific fields more accessible.\n",
    "* Force <strong>created_at</strong> to datetime.\n",
    "* Set the dataframe's index to the <strong>created_at</strong> field"
   ],
   "metadata": {}
  },
  {
   "cell_type": "code",
   "execution_count": 7,
   "source": [
    "tweets = pd.DataFrame(flatten_tweets(tweets))\n",
    "tweets['created_at'] = pd.to_datetime(tweets['created_at'])\n",
    "tweets = tweets.set_index('created_at')"
   ],
   "outputs": [],
   "metadata": {}
  },
  {
   "cell_type": "markdown",
   "source": [
    "With our tweets captured we are now ready to perform sentiment analysis.\n",
    "\n",
    "---\n",
    "<table style=\"width:75%\">\n",
    "    <th>Value</th>\n",
    "    <th>Translation</th>\n",
    "    <tr>\n",
    "        <td>0</td>\n",
    "        <td>Neutral</td>\n",
    "    </tr>\n",
    "    <tr>\n",
    "        <td>>0</td>\n",
    "        <td>Positive</td>\n",
    "    </tr>\n",
    "    <tr>\n",
    "        <td><0</td>\n",
    "        <td>Negative</td>\n",
    "    </tr>\n",
    "</table>"
   ],
   "metadata": {
    "tags": []
   }
  },
  {
   "cell_type": "code",
   "execution_count": 8,
   "source": [
    "sid = SentimentIntensityAnalyzer()\n",
    "tweets['scores'] = tweets['full_text'].apply(sid.polarity_scores) # combine with dataframe\n",
    "\n",
    "# Isolate the compound value from scores and create a new column.\n",
    "tweets['compound']  = tweets['scores'].apply(lambda score_dict: score_dict['compound'])\n",
    "# Create a new, sentitment, column with pos, neg, neu based on compound.\n",
    "tweets['sentiment'] = tweets['compound'].apply(lambda c: 'pos' if c > 0 else ('neu' if c == 0 else 'neg'))"
   ],
   "outputs": [],
   "metadata": {}
  },
  {
   "cell_type": "markdown",
   "source": [
    "Tweets contain a bounding box, an approximate area (in the shape of a rectangle) of where the user tweeted from.  For this bounding box to be populated the user must make location sharing available to the application.\n",
    "\n",
    "In the next step we will take the bounding box and calculate the centroid, providing a simple latitude and longitude value so that we can more easily use mapping features of mapping utilities or libraries."
   ],
   "metadata": {}
  },
  {
   "cell_type": "code",
   "execution_count": 9,
   "source": [
    "tweets['centroid'] = tweets['place'].apply(calculateCentroid) # calculate centroid\n",
    "tweets[['long', 'lat']] = pd.DataFrame(tweets['centroid'].tolist(), index=tweets.index) # split centroid into long, lat\n",
    "tweets['search_criteria'] = search.SEARCH"
   ],
   "outputs": [],
   "metadata": {}
  },
  {
   "cell_type": "markdown",
   "source": [
    "We want to set our minimum and maximum date values so that we can use these in our file name.  This will help reduce ambiguity and ensure there's no manual effort here and the consumer of the file can more easily identify the date range in play."
   ],
   "metadata": {}
  },
  {
   "cell_type": "code",
   "execution_count": 10,
   "source": [
    "min_created_dt = tweets.index.min().strftime('%Y%m%d')\n",
    "max_created_dt = tweets.index.max().strftime('%Y%m%d')"
   ],
   "outputs": [],
   "metadata": {}
  },
  {
   "cell_type": "code",
   "execution_count": 11,
   "source": [
    "print(f\"Eariest Created At Date: {min_created_dt}\")\n",
    "print(f\"Latest Created At Date: {max_created_dt}\")"
   ],
   "outputs": [
    {
     "output_type": "stream",
     "name": "stdout",
     "text": [
      "Eariest Created At Date: 20210830\n",
      "Latest Created At Date: 20210907\n"
     ]
    }
   ],
   "metadata": {}
  },
  {
   "cell_type": "markdown",
   "source": [
    "We write our dataframe out to a csv so that we can download it and use it in an analytics tool like Tableau.  This could just as easily be an s3 bucket; however, accessing a simple s3 file on an s3 bucket can be a bit more difficult than simply accessing the file locally."
   ],
   "metadata": {}
  },
  {
   "cell_type": "code",
   "execution_count": 12,
   "source": [
    "tweets.to_csv(f'resultsets/tweets_{min_created_dt}_{max_created_dt}.csv',\n",
    "        index=True,\n",
    "        sep='~') # write to csv, keep index"
   ],
   "outputs": [],
   "metadata": {}
  },
  {
   "cell_type": "markdown",
   "source": [
    "Before we get into any visualizations, outside of this notebook, let's take a look at a few data features by the numbers.\n",
    "* Breakdown by sentiment.\n",
    "* Breakdown by author.\n",
    "* Average compound score by sentiments negative and positive.\n",
    "\n",
    "But first, let's start with a look at:\n",
    "* The shape of the dataframe\n",
    "* what columns we have\n",
    "* column info\n",
    "* sample of the data, first 5 rows"
   ],
   "metadata": {}
  },
  {
   "cell_type": "code",
   "execution_count": 13,
   "source": [
    "print(f\"There were {tweets.shape[0]} tweets in the past {search.DAYS} days.\")"
   ],
   "outputs": [
    {
     "output_type": "stream",
     "name": "stdout",
     "text": [
      "There were 25 tweets in the past 7 days.\n"
     ]
    }
   ],
   "metadata": {}
  },
  {
   "cell_type": "code",
   "execution_count": 14,
   "source": [
    "tweets.columns"
   ],
   "outputs": [
    {
     "output_type": "execute_result",
     "data": {
      "text/plain": [
       "Index(['id', 'id_str', 'full_text', 'truncated', 'display_text_range',\n",
       "       'entities', 'metadata', 'source', 'in_reply_to_status_id',\n",
       "       'in_reply_to_status_id_str', 'in_reply_to_user_id',\n",
       "       'in_reply_to_user_id_str', 'in_reply_to_screen_name', 'user', 'geo',\n",
       "       'coordinates', 'place', 'contributors', 'retweeted_status',\n",
       "       'is_quote_status', 'retweet_count', 'favorite_count', 'favorited',\n",
       "       'retweeted', 'lang', 'user-screen_name',\n",
       "       'retweeted_status-user-screen_name', 'retweeted_status-full_text',\n",
       "       'user-location', 'possibly_sensitive', 'extended_entities', 'scores',\n",
       "       'compound', 'sentiment', 'centroid', 'long', 'lat', 'search_criteria'],\n",
       "      dtype='object')"
      ]
     },
     "metadata": {},
     "execution_count": 14
    }
   ],
   "metadata": {}
  },
  {
   "cell_type": "code",
   "execution_count": 15,
   "source": [
    "tweets.info()"
   ],
   "outputs": [
    {
     "output_type": "stream",
     "name": "stdout",
     "text": [
      "<class 'pandas.core.frame.DataFrame'>\n",
      "DatetimeIndex: 25 entries, 2021-09-07 06:32:22+00:00 to 2021-08-30 23:20:00+00:00\n",
      "Data columns (total 38 columns):\n",
      " #   Column                             Non-Null Count  Dtype  \n",
      "---  ------                             --------------  -----  \n",
      " 0   id                                 25 non-null     int64  \n",
      " 1   id_str                             25 non-null     object \n",
      " 2   full_text                          25 non-null     object \n",
      " 3   truncated                          25 non-null     bool   \n",
      " 4   display_text_range                 25 non-null     object \n",
      " 5   entities                           25 non-null     object \n",
      " 6   metadata                           25 non-null     object \n",
      " 7   source                             25 non-null     object \n",
      " 8   in_reply_to_status_id              0 non-null      object \n",
      " 9   in_reply_to_status_id_str          0 non-null      object \n",
      " 10  in_reply_to_user_id                0 non-null      object \n",
      " 11  in_reply_to_user_id_str            0 non-null      object \n",
      " 12  in_reply_to_screen_name            0 non-null      object \n",
      " 13  user                               25 non-null     object \n",
      " 14  geo                                0 non-null      object \n",
      " 15  coordinates                        0 non-null      object \n",
      " 16  place                              0 non-null      object \n",
      " 17  contributors                       0 non-null      object \n",
      " 18  retweeted_status                   18 non-null     object \n",
      " 19  is_quote_status                    25 non-null     bool   \n",
      " 20  retweet_count                      25 non-null     int64  \n",
      " 21  favorite_count                     25 non-null     int64  \n",
      " 22  favorited                          25 non-null     bool   \n",
      " 23  retweeted                          25 non-null     bool   \n",
      " 24  lang                               25 non-null     object \n",
      " 25  user-screen_name                   25 non-null     object \n",
      " 26  retweeted_status-user-screen_name  18 non-null     object \n",
      " 27  retweeted_status-full_text         18 non-null     object \n",
      " 28  user-location                      25 non-null     object \n",
      " 29  possibly_sensitive                 18 non-null     object \n",
      " 30  extended_entities                  3 non-null      object \n",
      " 31  scores                             25 non-null     object \n",
      " 32  compound                           25 non-null     float64\n",
      " 33  sentiment                          25 non-null     object \n",
      " 34  centroid                           25 non-null     object \n",
      " 35  long                               0 non-null      object \n",
      " 36  lat                                0 non-null      object \n",
      " 37  search_criteria                    25 non-null     object \n",
      "dtypes: bool(4), float64(1), int64(3), object(30)\n",
      "memory usage: 6.9+ KB\n"
     ]
    }
   ],
   "metadata": {}
  },
  {
   "cell_type": "code",
   "execution_count": 16,
   "source": [
    "tweets.head()"
   ],
   "outputs": [
    {
     "output_type": "execute_result",
     "data": {
      "text/html": [
       "<div>\n",
       "<style scoped>\n",
       "    .dataframe tbody tr th:only-of-type {\n",
       "        vertical-align: middle;\n",
       "    }\n",
       "\n",
       "    .dataframe tbody tr th {\n",
       "        vertical-align: top;\n",
       "    }\n",
       "\n",
       "    .dataframe thead th {\n",
       "        text-align: right;\n",
       "    }\n",
       "</style>\n",
       "<table border=\"1\" class=\"dataframe\">\n",
       "  <thead>\n",
       "    <tr style=\"text-align: right;\">\n",
       "      <th></th>\n",
       "      <th>id</th>\n",
       "      <th>id_str</th>\n",
       "      <th>full_text</th>\n",
       "      <th>truncated</th>\n",
       "      <th>display_text_range</th>\n",
       "      <th>entities</th>\n",
       "      <th>metadata</th>\n",
       "      <th>source</th>\n",
       "      <th>in_reply_to_status_id</th>\n",
       "      <th>in_reply_to_status_id_str</th>\n",
       "      <th>...</th>\n",
       "      <th>user-location</th>\n",
       "      <th>possibly_sensitive</th>\n",
       "      <th>extended_entities</th>\n",
       "      <th>scores</th>\n",
       "      <th>compound</th>\n",
       "      <th>sentiment</th>\n",
       "      <th>centroid</th>\n",
       "      <th>long</th>\n",
       "      <th>lat</th>\n",
       "      <th>search_criteria</th>\n",
       "    </tr>\n",
       "    <tr>\n",
       "      <th>created_at</th>\n",
       "      <th></th>\n",
       "      <th></th>\n",
       "      <th></th>\n",
       "      <th></th>\n",
       "      <th></th>\n",
       "      <th></th>\n",
       "      <th></th>\n",
       "      <th></th>\n",
       "      <th></th>\n",
       "      <th></th>\n",
       "      <th></th>\n",
       "      <th></th>\n",
       "      <th></th>\n",
       "      <th></th>\n",
       "      <th></th>\n",
       "      <th></th>\n",
       "      <th></th>\n",
       "      <th></th>\n",
       "      <th></th>\n",
       "      <th></th>\n",
       "      <th></th>\n",
       "    </tr>\n",
       "  </thead>\n",
       "  <tbody>\n",
       "    <tr>\n",
       "      <th>2021-09-07 06:32:22+00:00</th>\n",
       "      <td>1435128795544104960</td>\n",
       "      <td>1435128795544104960</td>\n",
       "      <td>RT @ComDannyda: How to #view/#check #files/#fo...</td>\n",
       "      <td>False</td>\n",
       "      <td>[0, 140]</td>\n",
       "      <td>{'hashtags': [{'text': 'view', 'indices': [23,...</td>\n",
       "      <td>{'iso_language_code': 'en', 'result_type': 're...</td>\n",
       "      <td>&lt;a href=\"https://mobile.twitter.com\" rel=\"nofo...</td>\n",
       "      <td>None</td>\n",
       "      <td>None</td>\n",
       "      <td>...</td>\n",
       "      <td></td>\n",
       "      <td>NaN</td>\n",
       "      <td>NaN</td>\n",
       "      <td>{'neg': 0.0, 'neu': 1.0, 'pos': 0.0, 'compound...</td>\n",
       "      <td>0.0</td>\n",
       "      <td>neu</td>\n",
       "      <td>(None, None)</td>\n",
       "      <td>None</td>\n",
       "      <td>None</td>\n",
       "      <td>@RedHat OR #RedHat OR #LifeatRedHat OR @RedHat...</td>\n",
       "    </tr>\n",
       "    <tr>\n",
       "      <th>2021-09-04 18:39:46+00:00</th>\n",
       "      <td>1434224685479256072</td>\n",
       "      <td>1434224685479256072</td>\n",
       "      <td>RT @helpnetsecurity: Building for transactiona...</td>\n",
       "      <td>False</td>\n",
       "      <td>[0, 140]</td>\n",
       "      <td>{'hashtags': [], 'symbols': [], 'user_mentions...</td>\n",
       "      <td>{'iso_language_code': 'en', 'result_type': 're...</td>\n",
       "      <td>&lt;a href=\"https://help.twitter.com/en/using-twi...</td>\n",
       "      <td>None</td>\n",
       "      <td>None</td>\n",
       "      <td>...</td>\n",
       "      <td>Silicon Valley</td>\n",
       "      <td>False</td>\n",
       "      <td>NaN</td>\n",
       "      <td>{'neg': 0.0, 'neu': 1.0, 'pos': 0.0, 'compound...</td>\n",
       "      <td>0.0</td>\n",
       "      <td>neu</td>\n",
       "      <td>(None, None)</td>\n",
       "      <td>None</td>\n",
       "      <td>None</td>\n",
       "      <td>@RedHat OR #RedHat OR #LifeatRedHat OR @RedHat...</td>\n",
       "    </tr>\n",
       "    <tr>\n",
       "      <th>2021-09-04 18:34:43+00:00</th>\n",
       "      <td>1434223416673030149</td>\n",
       "      <td>1434223416673030149</td>\n",
       "      <td>RT @helpnetsecurity: Building for transactiona...</td>\n",
       "      <td>False</td>\n",
       "      <td>[0, 140]</td>\n",
       "      <td>{'hashtags': [], 'symbols': [], 'user_mentions...</td>\n",
       "      <td>{'iso_language_code': 'en', 'result_type': 're...</td>\n",
       "      <td>&lt;a href=\"https://abdirahiimyassin.weebly.com\" ...</td>\n",
       "      <td>None</td>\n",
       "      <td>None</td>\n",
       "      <td>...</td>\n",
       "      <td>Internet</td>\n",
       "      <td>False</td>\n",
       "      <td>NaN</td>\n",
       "      <td>{'neg': 0.0, 'neu': 1.0, 'pos': 0.0, 'compound...</td>\n",
       "      <td>0.0</td>\n",
       "      <td>neu</td>\n",
       "      <td>(None, None)</td>\n",
       "      <td>None</td>\n",
       "      <td>None</td>\n",
       "      <td>@RedHat OR #RedHat OR #LifeatRedHat OR @RedHat...</td>\n",
       "    </tr>\n",
       "    <tr>\n",
       "      <th>2021-09-04 16:13:51+00:00</th>\n",
       "      <td>1434187963873832963</td>\n",
       "      <td>1434187963873832963</td>\n",
       "      <td>RT @helpnetsecurity: Building for transactiona...</td>\n",
       "      <td>False</td>\n",
       "      <td>[0, 140]</td>\n",
       "      <td>{'hashtags': [], 'symbols': [], 'user_mentions...</td>\n",
       "      <td>{'iso_language_code': 'en', 'result_type': 're...</td>\n",
       "      <td>&lt;a href=\"http://www.powerapps.com\" rel=\"nofoll...</td>\n",
       "      <td>None</td>\n",
       "      <td>None</td>\n",
       "      <td>...</td>\n",
       "      <td></td>\n",
       "      <td>False</td>\n",
       "      <td>NaN</td>\n",
       "      <td>{'neg': 0.0, 'neu': 1.0, 'pos': 0.0, 'compound...</td>\n",
       "      <td>0.0</td>\n",
       "      <td>neu</td>\n",
       "      <td>(None, None)</td>\n",
       "      <td>None</td>\n",
       "      <td>None</td>\n",
       "      <td>@RedHat OR #RedHat OR #LifeatRedHat OR @RedHat...</td>\n",
       "    </tr>\n",
       "    <tr>\n",
       "      <th>2021-09-04 16:03:39+00:00</th>\n",
       "      <td>1434185397911924748</td>\n",
       "      <td>1434185397911924748</td>\n",
       "      <td>RT @helpnetsecurity: Building for transactiona...</td>\n",
       "      <td>False</td>\n",
       "      <td>[0, 140]</td>\n",
       "      <td>{'hashtags': [], 'symbols': [], 'user_mentions...</td>\n",
       "      <td>{'iso_language_code': 'en', 'result_type': 're...</td>\n",
       "      <td>&lt;a href=\"https://help.twitter.com/en/using-twi...</td>\n",
       "      <td>None</td>\n",
       "      <td>None</td>\n",
       "      <td>...</td>\n",
       "      <td>USA</td>\n",
       "      <td>False</td>\n",
       "      <td>NaN</td>\n",
       "      <td>{'neg': 0.0, 'neu': 1.0, 'pos': 0.0, 'compound...</td>\n",
       "      <td>0.0</td>\n",
       "      <td>neu</td>\n",
       "      <td>(None, None)</td>\n",
       "      <td>None</td>\n",
       "      <td>None</td>\n",
       "      <td>@RedHat OR #RedHat OR #LifeatRedHat OR @RedHat...</td>\n",
       "    </tr>\n",
       "  </tbody>\n",
       "</table>\n",
       "<p>5 rows × 38 columns</p>\n",
       "</div>"
      ],
      "text/plain": [
       "                                            id               id_str  \\\n",
       "created_at                                                            \n",
       "2021-09-07 06:32:22+00:00  1435128795544104960  1435128795544104960   \n",
       "2021-09-04 18:39:46+00:00  1434224685479256072  1434224685479256072   \n",
       "2021-09-04 18:34:43+00:00  1434223416673030149  1434223416673030149   \n",
       "2021-09-04 16:13:51+00:00  1434187963873832963  1434187963873832963   \n",
       "2021-09-04 16:03:39+00:00  1434185397911924748  1434185397911924748   \n",
       "\n",
       "                                                                   full_text  \\\n",
       "created_at                                                                     \n",
       "2021-09-07 06:32:22+00:00  RT @ComDannyda: How to #view/#check #files/#fo...   \n",
       "2021-09-04 18:39:46+00:00  RT @helpnetsecurity: Building for transactiona...   \n",
       "2021-09-04 18:34:43+00:00  RT @helpnetsecurity: Building for transactiona...   \n",
       "2021-09-04 16:13:51+00:00  RT @helpnetsecurity: Building for transactiona...   \n",
       "2021-09-04 16:03:39+00:00  RT @helpnetsecurity: Building for transactiona...   \n",
       "\n",
       "                           truncated display_text_range  \\\n",
       "created_at                                                \n",
       "2021-09-07 06:32:22+00:00      False           [0, 140]   \n",
       "2021-09-04 18:39:46+00:00      False           [0, 140]   \n",
       "2021-09-04 18:34:43+00:00      False           [0, 140]   \n",
       "2021-09-04 16:13:51+00:00      False           [0, 140]   \n",
       "2021-09-04 16:03:39+00:00      False           [0, 140]   \n",
       "\n",
       "                                                                    entities  \\\n",
       "created_at                                                                     \n",
       "2021-09-07 06:32:22+00:00  {'hashtags': [{'text': 'view', 'indices': [23,...   \n",
       "2021-09-04 18:39:46+00:00  {'hashtags': [], 'symbols': [], 'user_mentions...   \n",
       "2021-09-04 18:34:43+00:00  {'hashtags': [], 'symbols': [], 'user_mentions...   \n",
       "2021-09-04 16:13:51+00:00  {'hashtags': [], 'symbols': [], 'user_mentions...   \n",
       "2021-09-04 16:03:39+00:00  {'hashtags': [], 'symbols': [], 'user_mentions...   \n",
       "\n",
       "                                                                    metadata  \\\n",
       "created_at                                                                     \n",
       "2021-09-07 06:32:22+00:00  {'iso_language_code': 'en', 'result_type': 're...   \n",
       "2021-09-04 18:39:46+00:00  {'iso_language_code': 'en', 'result_type': 're...   \n",
       "2021-09-04 18:34:43+00:00  {'iso_language_code': 'en', 'result_type': 're...   \n",
       "2021-09-04 16:13:51+00:00  {'iso_language_code': 'en', 'result_type': 're...   \n",
       "2021-09-04 16:03:39+00:00  {'iso_language_code': 'en', 'result_type': 're...   \n",
       "\n",
       "                                                                      source  \\\n",
       "created_at                                                                     \n",
       "2021-09-07 06:32:22+00:00  <a href=\"https://mobile.twitter.com\" rel=\"nofo...   \n",
       "2021-09-04 18:39:46+00:00  <a href=\"https://help.twitter.com/en/using-twi...   \n",
       "2021-09-04 18:34:43+00:00  <a href=\"https://abdirahiimyassin.weebly.com\" ...   \n",
       "2021-09-04 16:13:51+00:00  <a href=\"http://www.powerapps.com\" rel=\"nofoll...   \n",
       "2021-09-04 16:03:39+00:00  <a href=\"https://help.twitter.com/en/using-twi...   \n",
       "\n",
       "                          in_reply_to_status_id in_reply_to_status_id_str  \\\n",
       "created_at                                                                  \n",
       "2021-09-07 06:32:22+00:00                  None                      None   \n",
       "2021-09-04 18:39:46+00:00                  None                      None   \n",
       "2021-09-04 18:34:43+00:00                  None                      None   \n",
       "2021-09-04 16:13:51+00:00                  None                      None   \n",
       "2021-09-04 16:03:39+00:00                  None                      None   \n",
       "\n",
       "                           ...   user-location possibly_sensitive  \\\n",
       "created_at                 ...                                      \n",
       "2021-09-07 06:32:22+00:00  ...                                NaN   \n",
       "2021-09-04 18:39:46+00:00  ...  Silicon Valley              False   \n",
       "2021-09-04 18:34:43+00:00  ...        Internet              False   \n",
       "2021-09-04 16:13:51+00:00  ...                              False   \n",
       "2021-09-04 16:03:39+00:00  ...             USA              False   \n",
       "\n",
       "                          extended_entities  \\\n",
       "created_at                                    \n",
       "2021-09-07 06:32:22+00:00               NaN   \n",
       "2021-09-04 18:39:46+00:00               NaN   \n",
       "2021-09-04 18:34:43+00:00               NaN   \n",
       "2021-09-04 16:13:51+00:00               NaN   \n",
       "2021-09-04 16:03:39+00:00               NaN   \n",
       "\n",
       "                                                                      scores  \\\n",
       "created_at                                                                     \n",
       "2021-09-07 06:32:22+00:00  {'neg': 0.0, 'neu': 1.0, 'pos': 0.0, 'compound...   \n",
       "2021-09-04 18:39:46+00:00  {'neg': 0.0, 'neu': 1.0, 'pos': 0.0, 'compound...   \n",
       "2021-09-04 18:34:43+00:00  {'neg': 0.0, 'neu': 1.0, 'pos': 0.0, 'compound...   \n",
       "2021-09-04 16:13:51+00:00  {'neg': 0.0, 'neu': 1.0, 'pos': 0.0, 'compound...   \n",
       "2021-09-04 16:03:39+00:00  {'neg': 0.0, 'neu': 1.0, 'pos': 0.0, 'compound...   \n",
       "\n",
       "                          compound sentiment      centroid  long   lat  \\\n",
       "created_at                                                               \n",
       "2021-09-07 06:32:22+00:00      0.0       neu  (None, None)  None  None   \n",
       "2021-09-04 18:39:46+00:00      0.0       neu  (None, None)  None  None   \n",
       "2021-09-04 18:34:43+00:00      0.0       neu  (None, None)  None  None   \n",
       "2021-09-04 16:13:51+00:00      0.0       neu  (None, None)  None  None   \n",
       "2021-09-04 16:03:39+00:00      0.0       neu  (None, None)  None  None   \n",
       "\n",
       "                                                             search_criteria  \n",
       "created_at                                                                    \n",
       "2021-09-07 06:32:22+00:00  @RedHat OR #RedHat OR #LifeatRedHat OR @RedHat...  \n",
       "2021-09-04 18:39:46+00:00  @RedHat OR #RedHat OR #LifeatRedHat OR @RedHat...  \n",
       "2021-09-04 18:34:43+00:00  @RedHat OR #RedHat OR #LifeatRedHat OR @RedHat...  \n",
       "2021-09-04 16:13:51+00:00  @RedHat OR #RedHat OR #LifeatRedHat OR @RedHat...  \n",
       "2021-09-04 16:03:39+00:00  @RedHat OR #RedHat OR #LifeatRedHat OR @RedHat...  \n",
       "\n",
       "[5 rows x 38 columns]"
      ]
     },
     "metadata": {},
     "execution_count": 16
    }
   ],
   "metadata": {}
  },
  {
   "cell_type": "code",
   "execution_count": 17,
   "source": [
    "# Count of tweets by sentiment\n",
    "tweets.groupby('sentiment')['sentiment'].count()"
   ],
   "outputs": [
    {
     "output_type": "execute_result",
     "data": {
      "text/plain": [
       "sentiment\n",
       "neg     6\n",
       "neu    18\n",
       "pos     1\n",
       "Name: sentiment, dtype: int64"
      ]
     },
     "metadata": {},
     "execution_count": 17
    }
   ],
   "metadata": {}
  },
  {
   "cell_type": "code",
   "execution_count": 18,
   "source": [
    "# Count of tweets by author and show the top 10\n",
    "tweets.groupby('user-screen_name')['user-screen_name'].count().nlargest(10)"
   ],
   "outputs": [
    {
     "output_type": "execute_result",
     "data": {
      "text/plain": [
       "user-screen_name\n",
       "austin_castel      3\n",
       "helpnetsecurity    3\n",
       "tester109375070    3\n",
       "KalemaChris        2\n",
       "cybersec_feeds     2\n",
       "opensource_orgs    2\n",
       "schestowitz        2\n",
       "CSSalesMan         1\n",
       "ComDannyda         1\n",
       "JavaGeekBot        1\n",
       "Name: user-screen_name, dtype: int64"
      ]
     },
     "metadata": {},
     "execution_count": 18
    }
   ],
   "metadata": {}
  },
  {
   "cell_type": "code",
   "execution_count": 19,
   "source": [
    "# Let's get an idea of what the sentiment is by author\n",
    "tweets.groupby(['user-screen_name', 'sentiment'])['sentiment'].count()"
   ],
   "outputs": [
    {
     "output_type": "execute_result",
     "data": {
      "text/plain": [
       "user-screen_name  sentiment\n",
       "CSSalesMan        neu          1\n",
       "ComDannyda        neu          1\n",
       "JavaGeekBot       neg          1\n",
       "KalemaChris       neu          2\n",
       "WhiteCh46522218   neu          1\n",
       "austin_castel     neu          3\n",
       "cybersec_feeds    neu          2\n",
       "helpnetsecurity   neu          3\n",
       "opensource_orgs   neg          2\n",
       "schestowitz       neu          1\n",
       "                  pos          1\n",
       "sysadm_bot        neu          1\n",
       "tester109375070   neu          3\n",
       "wealldotcom       neg          1\n",
       "worldofnubcraft   neg          1\n",
       "writeffects       neg          1\n",
       "Name: sentiment, dtype: int64"
      ]
     },
     "metadata": {},
     "execution_count": 19
    }
   ],
   "metadata": {}
  },
  {
   "cell_type": "code",
   "execution_count": 20,
   "source": [
    "# Let's get the mean / average of the compound score by sentiment.\n",
    "tweets.groupby('sentiment')['compound'].mean()"
   ],
   "outputs": [
    {
     "output_type": "execute_result",
     "data": {
      "text/plain": [
       "sentiment\n",
       "neg   -0.413183\n",
       "neu    0.000000\n",
       "pos    0.616600\n",
       "Name: compound, dtype: float64"
      ]
     },
     "metadata": {},
     "execution_count": 20
    }
   ],
   "metadata": {}
  },
  {
   "cell_type": "code",
   "execution_count": 21,
   "source": [
    "# How many tweets included location information\n",
    "print(f\"{tweets.shape[0] - tweets['long'].isnull().sum()} tweets did not contain latitude and longitude.\")"
   ],
   "outputs": [
    {
     "output_type": "stream",
     "name": "stdout",
     "text": [
      "0 tweets did not contain latitude and longitude.\n"
     ]
    }
   ],
   "metadata": {}
  },
  {
   "cell_type": "code",
   "execution_count": 22,
   "source": [
    "# How many tweets did NOT include location information\n",
    "# Just an inverse of the above to double check things.\n",
    "print(f\"{tweets['long'].isnull().sum()} tweets contained latitude and longitude.\")"
   ],
   "outputs": [
    {
     "output_type": "stream",
     "name": "stdout",
     "text": [
      "25 tweets contained latitude and longitude.\n"
     ]
    }
   ],
   "metadata": {}
  },
  {
   "cell_type": "code",
   "execution_count": 25,
   "source": [
    "tweets.groupby('user-location')['user-location'].count()"
   ],
   "outputs": [
    {
     "output_type": "execute_result",
     "data": {
      "text/plain": [
       "user-location\n",
       "                             10\n",
       "@wealldotcom                  1\n",
       "Global                        3\n",
       "Internet                      2\n",
       "Kampala, Uganda               2\n",
       "Mandaluyong City, NCR, PH     1\n",
       "North Pole                    2\n",
       "Silicon Valley                1\n",
       "USA                           3\n",
       "Name: user-location, dtype: int64"
      ]
     },
     "metadata": {},
     "execution_count": 25
    }
   ],
   "metadata": {}
  },
  {
   "cell_type": "code",
   "execution_count": 24,
   "source": [
    "tweets.search_criteria"
   ],
   "outputs": [
    {
     "output_type": "execute_result",
     "data": {
      "text/plain": [
       "created_at\n",
       "2021-09-07 06:32:22+00:00    @RedHat OR #RedHat OR #LifeatRedHat OR @RedHat...\n",
       "2021-09-04 18:39:46+00:00    @RedHat OR #RedHat OR #LifeatRedHat OR @RedHat...\n",
       "2021-09-04 18:34:43+00:00    @RedHat OR #RedHat OR #LifeatRedHat OR @RedHat...\n",
       "2021-09-04 16:13:51+00:00    @RedHat OR #RedHat OR #LifeatRedHat OR @RedHat...\n",
       "2021-09-04 16:03:39+00:00    @RedHat OR #RedHat OR #LifeatRedHat OR @RedHat...\n",
       "2021-09-04 16:01:28+00:00    @RedHat OR #RedHat OR #LifeatRedHat OR @RedHat...\n",
       "2021-09-03 04:58:58+00:00    @RedHat OR #RedHat OR #LifeatRedHat OR @RedHat...\n",
       "2021-09-03 04:58:53+00:00    @RedHat OR #RedHat OR #LifeatRedHat OR @RedHat...\n",
       "2021-09-02 05:13:33+00:00    @RedHat OR #RedHat OR #LifeatRedHat OR @RedHat...\n",
       "2021-09-02 04:53:00+00:00    @RedHat OR #RedHat OR #LifeatRedHat OR @RedHat...\n",
       "2021-09-02 04:52:59+00:00    @RedHat OR #RedHat OR #LifeatRedHat OR @RedHat...\n",
       "2021-09-02 04:52:54+00:00    @RedHat OR #RedHat OR #LifeatRedHat OR @RedHat...\n",
       "2021-09-01 20:22:16+00:00    @RedHat OR #RedHat OR #LifeatRedHat OR @RedHat...\n",
       "2021-09-01 16:12:16+00:00    @RedHat OR #RedHat OR #LifeatRedHat OR @RedHat...\n",
       "2021-09-01 15:12:54+00:00    @RedHat OR #RedHat OR #LifeatRedHat OR @RedHat...\n",
       "2021-09-01 14:46:35+00:00    @RedHat OR #RedHat OR #LifeatRedHat OR @RedHat...\n",
       "2021-09-01 14:30:31+00:00    @RedHat OR #RedHat OR #LifeatRedHat OR @RedHat...\n",
       "2021-08-31 18:03:41+00:00    @RedHat OR #RedHat OR #LifeatRedHat OR @RedHat...\n",
       "2021-08-31 14:43:03+00:00    @RedHat OR #RedHat OR #LifeatRedHat OR @RedHat...\n",
       "2021-08-31 08:06:37+00:00    @RedHat OR #RedHat OR #LifeatRedHat OR @RedHat...\n",
       "2021-08-31 07:12:30+00:00    @RedHat OR #RedHat OR #LifeatRedHat OR @RedHat...\n",
       "2021-08-31 06:46:18+00:00    @RedHat OR #RedHat OR #LifeatRedHat OR @RedHat...\n",
       "2021-08-31 06:45:03+00:00    @RedHat OR #RedHat OR #LifeatRedHat OR @RedHat...\n",
       "2021-08-30 23:31:05+00:00    @RedHat OR #RedHat OR #LifeatRedHat OR @RedHat...\n",
       "2021-08-30 23:20:00+00:00    @RedHat OR #RedHat OR #LifeatRedHat OR @RedHat...\n",
       "Name: search_criteria, dtype: object"
      ]
     },
     "metadata": {},
     "execution_count": 24
    }
   ],
   "metadata": {}
  },
  {
   "cell_type": "code",
   "execution_count": null,
   "source": [
    "from IPython.core.display import HTML"
   ],
   "outputs": [],
   "metadata": {}
  },
  {
   "cell_type": "code",
   "execution_count": 26,
   "source": [
    "%%html\n",
    "<div class='tableauPlaceholder' id='viz1631047197051' style='position: relative'><noscript><a href='#'><img alt='Analyze Twitter Data ' src='https:&#47;&#47;public.tableau.com&#47;static&#47;images&#47;An&#47;AnalyzeTwitterData&#47;AnalyzeTwitterData&#47;1_rss.png' style='border: none' /></a></noscript><object class='tableauViz'  style='display:none;'><param name='host_url' value='https%3A%2F%2Fpublic.tableau.com%2F' /> <param name='embed_code_version' value='3' /> <param name='site_root' value='' /><param name='name' value='AnalyzeTwitterData&#47;AnalyzeTwitterData' /><param name='tabs' value='no' /><param name='toolbar' value='yes' /><param name='static_image' value='https:&#47;&#47;public.tableau.com&#47;static&#47;images&#47;An&#47;AnalyzeTwitterData&#47;AnalyzeTwitterData&#47;1.png' /> <param name='animate_transition' value='yes' /><param name='display_static_image' value='yes' /><param name='display_spinner' value='yes' /><param name='display_overlay' value='yes' /><param name='display_count' value='yes' /><param name='language' value='en-US' /><param name='filter' value='publish=yes' /></object></div>                <script type='text/javascript'>                    var divElement = document.getElementById('viz1631047197051');                    var vizElement = divElement.getElementsByTagName('object')[0];                    if ( divElement.offsetWidth > 800 ) { vizElement.style.width='1000px';vizElement.style.height='927px';} else if ( divElement.offsetWidth > 500 ) { vizElement.style.width='1000px';vizElement.style.height='927px';} else { vizElement.style.width='100%';vizElement.style.height='1777px';}                     var scriptElement = document.createElement('script');                    scriptElement.src = 'https://public.tableau.com/javascripts/api/viz_v1.js';                    vizElement.parentNode.insertBefore(scriptElement, vizElement);                </script>"
   ],
   "outputs": [
    {
     "output_type": "display_data",
     "data": {
      "text/html": [
       "<div class='tableauPlaceholder' id='viz1631047197051' style='position: relative'><noscript><a href='#'><img alt='Analyze Twitter Data ' src='https:&#47;&#47;public.tableau.com&#47;static&#47;images&#47;An&#47;AnalyzeTwitterData&#47;AnalyzeTwitterData&#47;1_rss.png' style='border: none' /></a></noscript><object class='tableauViz'  style='display:none;'><param name='host_url' value='https%3A%2F%2Fpublic.tableau.com%2F' /> <param name='embed_code_version' value='3' /> <param name='site_root' value='' /><param name='name' value='AnalyzeTwitterData&#47;AnalyzeTwitterData' /><param name='tabs' value='no' /><param name='toolbar' value='yes' /><param name='static_image' value='https:&#47;&#47;public.tableau.com&#47;static&#47;images&#47;An&#47;AnalyzeTwitterData&#47;AnalyzeTwitterData&#47;1.png' /> <param name='animate_transition' value='yes' /><param name='display_static_image' value='yes' /><param name='display_spinner' value='yes' /><param name='display_overlay' value='yes' /><param name='display_count' value='yes' /><param name='language' value='en-US' /><param name='filter' value='publish=yes' /></object></div>                <script type='text/javascript'>                    var divElement = document.getElementById('viz1631047197051');                    var vizElement = divElement.getElementsByTagName('object')[0];                    if ( divElement.offsetWidth > 800 ) { vizElement.style.width='1000px';vizElement.style.height='927px';} else if ( divElement.offsetWidth > 500 ) { vizElement.style.width='1000px';vizElement.style.height='927px';} else { vizElement.style.width='100%';vizElement.style.height='1777px';}                     var scriptElement = document.createElement('script');                    scriptElement.src = 'https://public.tableau.com/javascripts/api/viz_v1.js';                    vizElement.parentNode.insertBefore(scriptElement, vizElement);                </script>\n"
      ],
      "text/plain": [
       "<IPython.core.display.HTML object>"
      ]
     },
     "metadata": {}
    }
   ],
   "metadata": {}
  }
 ],
 "metadata": {
  "kernelspec": {
   "name": "python3",
   "display_name": "Python 3.8.10 64-bit"
  },
  "language_info": {
   "codemirror_mode": {
    "name": "ipython",
    "version": 3
   },
   "file_extension": ".py",
   "mimetype": "text/x-python",
   "name": "python",
   "nbconvert_exporter": "python",
   "pygments_lexer": "ipython3",
   "version": "3.8.10"
  },
  "interpreter": {
   "hash": "dca0ade3e726a953b501b15e8e990130d2b7799f14cfd9f4271676035ebe5511"
  }
 },
 "nbformat": 4,
 "nbformat_minor": 5
}