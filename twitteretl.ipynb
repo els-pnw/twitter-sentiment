{
 "cells": [
  {
   "cell_type": "markdown",
   "source": [
    "# Analyze Tweets\n",
    "## With tweepy and pandas\n",
    "### By: Eric L. Sammons <elsammons@gmail.com>\n",
    "---\n",
    "### Purpose\n",
    "<table style=\"width:75%\">\n",
    "    <tr>\n",
    "        <td>\n",
    "            This project is to provide the user / reader with an introduction into social media sentiment analysis. We'll leverage the nltk sentiment vader library and dictionary.\n",
    "        </td>\n",
    "        <td>\n",
    "            <img src=\"https://upload.wikimedia.org/wikipedia/commons/e/ed/Pandas_logo.svg\" width=\"125\" height=\"75\">\n",
    "            <img src=\"https://static1.squarespace.com/static/538cea80e4b00f1fad490c1b/54668a77e4b00fb778d22a34/54668d8ae4b00fb778d285a2/1416007414694/python_nltk.png\" width=\"125\" height=\"75\">\n",
    "            <img src=\"https://twilio-cms-prod.s3.amazonaws.com/images/twitter-python-logos.width-808.jpg\" width=\"125\" height=\"75\">\n",
    "        </td>\n",
    "    </tr>\n",
    "</table>\n",
    "\n",
    "### Sentiment Analysis\n",
    "<table style=\"width:75%\">\n",
    "    <tr>\n",
    "        <td>\n",
    "            Defined as the use of natural language processing, text analysis, computational linguistics, and biometrics to systematically identify, extract, quantify, and study affective states and subjective information.\n",
    "        </td>\n",
    "    </tr>\n",
    "</table>\n",
    "\n",
    "### Before You Begin\n",
    "<table style=\"width:75%\">\n",
    "    <tr>\n",
    "        <td>\n",
    "            You will need to have a bearer token from Twitter\n",
    "        </td>\n",
    "        <td>\n",
    "            <a href=\"https://developer.twitter.com/en/docs/authentication/oauth-2-0/bearer-tokens\">\n",
    "                Using and Generating Bearer Tokens\n",
    "            </a>\n",
    "        </td>\n",
    "    </tr>\n",
    "</table>\n",
    "\n",
    "### Getting Started\n",
    "<table style=\"width:75%\">\n",
    "    <tr>\n",
    "        <td>\n",
    "            To use this notebook you will need to set up a <strong>.env</strong> file in root folder of this project.  The minimum values required are shown to the right.\n",
    "        </td>\n",
    "        <td>\n",
    "            CONSUMER_KEY=\"xxxxxx\"<p>\n",
    "            CONSUMER_SECRET=\"xxxxxxxxxxx\"<p>\n",
    "            ACCESS_KEY=\"xxxxxxxxxxxx\"<p>\n",
    "            ACCESS_SECRET=\"xxxxxxxxxxxx\"<p>\n",
    "        </td>\n",
    "    </tr>\n",
    " </table>"
   ],
   "metadata": {}
  },
  {
   "cell_type": "code",
   "execution_count": 1,
   "source": [
    "# Install requirements.\n",
    "!pip install -Uqr requirements.txt"
   ],
   "outputs": [],
   "metadata": {}
  },
  {
   "cell_type": "code",
   "execution_count": 2,
   "source": [
    "# We'll need these\n",
    "from dotenv import find_dotenv, load_dotenv\n",
    "import os\n",
    "import tweepy\n",
    "import datetime\n",
    "import json\n",
    "import pandas as pd\n",
    "from nltk import download\n",
    "from nltk.sentiment.vader import SentimentIntensityAnalyzer\n",
    "\n",
    "# download vader_lexicon\n",
    "download('vader_lexicon')\n",
    "\n",
    "# Import our helper functions and configs\n",
    "import search\n",
    "from lib.helper_functions import flatten_tweets\n",
    "from lib.helper_functions import calculateCentroid\n",
    "\n",
    "from IPython.core.display import HTML"
   ],
   "outputs": [
    {
     "output_type": "stream",
     "name": "stderr",
     "text": [
      "[nltk_data] Downloading package vader_lexicon to\n",
      "[nltk_data]     /Users/esammons/nltk_data...\n"
     ]
    }
   ],
   "metadata": {}
  },
  {
   "cell_type": "code",
   "execution_count": 3,
   "source": [
    "load_dotenv(find_dotenv()) # load our .env file.\n",
    "\n",
    "# Set up our bearer token.\n",
    "auth = tweepy.OAuthHandler(os.environ['CONSUMER_KEY'], os.environ['CONSUMER_SECRET'])\n",
    "auth.set_access_token(os.environ['ACCESS_KEY'], os.environ['ACCESS_SECRET'])\n",
    "\n",
    "# Set api options\n",
    "api = tweepy.API(auth,wait_on_rate_limit=True)"
   ],
   "outputs": [],
   "metadata": {}
  },
  {
   "cell_type": "code",
   "execution_count": 4,
   "source": [
    "print(f\"Searching {search.DAYS} days of tweets.\")\n",
    "today = datetime.date.today() # starting from today\n",
    "p_days= today - datetime.timedelta(days=search.DAYS) # prior days to look back"
   ],
   "outputs": [
    {
     "output_type": "stream",
     "name": "stdout",
     "text": [
      "Searching 7 days of tweets.\n"
     ]
    }
   ],
   "metadata": {}
  },
  {
   "cell_type": "code",
   "execution_count": 5,
   "source": [
    "# Instantiate the tweepy client\n",
    "tweets_list = tweepy.Cursor(api.search, \n",
    "                            q=search.SEARCH,\n",
    "                            since=str(p_days), \n",
    "                            until=str(today), \n",
    "                            tweet_mode='extended', \n",
    "                            ).items()"
   ],
   "outputs": [],
   "metadata": {}
  },
  {
   "cell_type": "code",
   "execution_count": 7,
   "source": [
    "# Let's grab some tweets.\n",
    "tweets = []\n",
    "\n",
    "for tweet in tweets_list:\n",
    "    tweets.append(json.dumps(tweet._json))"
   ],
   "outputs": [],
   "metadata": {}
  },
  {
   "cell_type": "markdown",
   "source": [
    "With our list of <strong>tweets</strong> we will now create our dataframe.\n",
    "\n",
    "Once the dataframe is created we'll:\n",
    "* Leverage our flatten tweets function to make specific fields more accessible.\n",
    "* Force <strong>created_at</strong> to datetime.\n",
    "* Set the dataframe's index to the <strong>created_at</strong> field"
   ],
   "metadata": {}
  },
  {
   "cell_type": "code",
   "execution_count": 8,
   "source": [
    "tweets = pd.DataFrame(flatten_tweets(tweets))\n",
    "tweets['created_at'] = pd.to_datetime(tweets['created_at'])\n",
    "tweets = tweets.set_index('created_at')"
   ],
   "outputs": [],
   "metadata": {}
  },
  {
   "cell_type": "markdown",
   "source": [
    "With our tweets captured we are now ready to perform sentiment analysis.\n",
    "\n",
    "---\n",
    "<table style=\"width:75%\">\n",
    "    <th>Value</th>\n",
    "    <th>Translation</th>\n",
    "    <tr>\n",
    "        <td>0</td>\n",
    "        <td>Neutral</td>\n",
    "    </tr>\n",
    "    <tr>\n",
    "        <td>>0</td>\n",
    "        <td>Positive</td>\n",
    "    </tr>\n",
    "    <tr>\n",
    "        <td><0</td>\n",
    "        <td>Negative</td>\n",
    "    </tr>\n",
    "</table>"
   ],
   "metadata": {
    "tags": []
   }
  },
  {
   "cell_type": "code",
   "execution_count": 9,
   "source": [
    "sid = SentimentIntensityAnalyzer()\n",
    "tweets['scores'] = tweets['full_text'].apply(sid.polarity_scores) # combine with dataframe\n",
    "\n",
    "# Isolate the compound value from scores and create a new column.\n",
    "tweets['compound']  = tweets['scores'].apply(lambda score_dict: score_dict['compound'])\n",
    "# Create a new, sentitment, column with pos, neg, neu based on compound.\n",
    "tweets['sentiment'] = tweets['compound'].apply(lambda c: 'pos' if c > 0 else ('neu' if c == 0 else 'neg'))"
   ],
   "outputs": [],
   "metadata": {}
  },
  {
   "cell_type": "markdown",
   "source": [
    "Tweets contain a bounding box, an approximate area (in the shape of a rectangle) of where the user tweeted from.  For this bounding box to be populated the user must make location sharing available to the application.\n",
    "\n",
    "In the next step we will take the bounding box and calculate the centroid, providing a simple latitude and longitude value so that we can more easily use mapping features of mapping utilities or libraries."
   ],
   "metadata": {}
  },
  {
   "cell_type": "code",
   "execution_count": 10,
   "source": [
    "tweets['centroid'] = tweets['place'].apply(calculateCentroid) # calculate centroid\n",
    "tweets[['long', 'lat']] = pd.DataFrame(tweets['centroid'].tolist(), index=tweets.index) # split centroid into long, lat"
   ],
   "outputs": [],
   "metadata": {}
  },
  {
   "cell_type": "markdown",
   "source": [
    "We want to set our minimum and maximum date values so that we can use these in our file name.  This will help reduce ambiguity and ensure there's no manual effort here and the consumer of the file can more easily identify the date range in play."
   ],
   "metadata": {}
  },
  {
   "cell_type": "code",
   "execution_count": 11,
   "source": [
    "min_created_dt = tweets.index.min().strftime('%Y%m%d')\n",
    "max_created_dt = tweets.index.max().strftime('%Y%m%d')"
   ],
   "outputs": [],
   "metadata": {}
  },
  {
   "cell_type": "markdown",
   "source": [
    "We write our dataframe out to a csv so that we can download it and use it in an analytics tool like Tableau.  This could just as easily be an s3 bucket; however, accessing a simple s3 file on an s3 bucket can be a bit more difficult than simply accessing the file locally."
   ],
   "metadata": {}
  },
  {
   "cell_type": "code",
   "execution_count": 12,
   "source": [
    "tweets.to_csv(f'resultsets/tweets_{min_created_dt}_{max_created_dt}.csv', index=True) # write to csv, keep index"
   ],
   "outputs": [],
   "metadata": {}
  },
  {
   "cell_type": "markdown",
   "source": [
    "Before we get into any visualizations, outside of this notebook, let's take a look at a few data features by the numbers.\n",
    "* Breakdown by sentiment.\n",
    "* Breakdown by author.\n",
    "* Average compound score by sentiments negative and positive.\n",
    "\n",
    "But first, let's start with a look at:\n",
    "* what columns we have\n",
    "* column info\n",
    "* sample of the data, first 5 rows"
   ],
   "metadata": {}
  },
  {
   "cell_type": "code",
   "execution_count": 32,
   "source": [
    "tweets.columns"
   ],
   "outputs": [
    {
     "output_type": "execute_result",
     "data": {
      "text/plain": [
       "Index(['id', 'id_str', 'full_text', 'truncated', 'display_text_range',\n",
       "       'entities', 'metadata', 'source', 'in_reply_to_status_id',\n",
       "       'in_reply_to_status_id_str', 'in_reply_to_user_id',\n",
       "       'in_reply_to_user_id_str', 'in_reply_to_screen_name', 'user', 'geo',\n",
       "       'coordinates', 'place', 'contributors', 'retweeted_status',\n",
       "       'is_quote_status', 'retweet_count', 'favorite_count', 'favorited',\n",
       "       'retweeted', 'lang', 'user-screen_name',\n",
       "       'retweeted_status-user-screen_name', 'retweeted_status-full_text',\n",
       "       'extended_entities', 'possibly_sensitive', 'quoted_status_id',\n",
       "       'quoted_status_id_str', 'quoted_status', 'scores', 'compound',\n",
       "       'sentiment', 'centroid', 'long', 'lat'],\n",
       "      dtype='object')"
      ]
     },
     "metadata": {},
     "execution_count": 32
    }
   ],
   "metadata": {}
  },
  {
   "cell_type": "code",
   "execution_count": 22,
   "source": [
    "tweets.info()"
   ],
   "outputs": [
    {
     "output_type": "stream",
     "name": "stdout",
     "text": [
      "<class 'pandas.core.frame.DataFrame'>\n",
      "DatetimeIndex: 336 entries, 2021-08-27 18:34:28+00:00 to 2021-08-27 00:00:03+00:00\n",
      "Data columns (total 39 columns):\n",
      " #   Column                             Non-Null Count  Dtype  \n",
      "---  ------                             --------------  -----  \n",
      " 0   id                                 336 non-null    int64  \n",
      " 1   id_str                             336 non-null    object \n",
      " 2   full_text                          336 non-null    object \n",
      " 3   truncated                          336 non-null    bool   \n",
      " 4   display_text_range                 336 non-null    object \n",
      " 5   entities                           336 non-null    object \n",
      " 6   metadata                           336 non-null    object \n",
      " 7   source                             336 non-null    object \n",
      " 8   in_reply_to_status_id              49 non-null     float64\n",
      " 9   in_reply_to_status_id_str          49 non-null     object \n",
      " 10  in_reply_to_user_id                54 non-null     float64\n",
      " 11  in_reply_to_user_id_str            54 non-null     object \n",
      " 12  in_reply_to_screen_name            54 non-null     object \n",
      " 13  user                               336 non-null    object \n",
      " 14  geo                                0 non-null      object \n",
      " 15  coordinates                        0 non-null      object \n",
      " 16  place                              2 non-null      object \n",
      " 17  contributors                       0 non-null      object \n",
      " 18  retweeted_status                   155 non-null    object \n",
      " 19  is_quote_status                    336 non-null    bool   \n",
      " 20  retweet_count                      336 non-null    int64  \n",
      " 21  favorite_count                     336 non-null    int64  \n",
      " 22  favorited                          336 non-null    bool   \n",
      " 23  retweeted                          336 non-null    bool   \n",
      " 24  lang                               336 non-null    object \n",
      " 25  user-screen_name                   336 non-null    object \n",
      " 26  retweeted_status-user-screen_name  155 non-null    object \n",
      " 27  retweeted_status-full_text         155 non-null    object \n",
      " 28  extended_entities                  58 non-null     object \n",
      " 29  possibly_sensitive                 172 non-null    object \n",
      " 30  quoted_status_id                   15 non-null     float64\n",
      " 31  quoted_status_id_str               15 non-null     object \n",
      " 32  quoted_status                      11 non-null     object \n",
      " 33  scores                             336 non-null    object \n",
      " 34  compound                           336 non-null    float64\n",
      " 35  sentiment                          336 non-null    object \n",
      " 36  centroid                           336 non-null    object \n",
      " 37  long                               2 non-null      float64\n",
      " 38  lat                                2 non-null      float64\n",
      "dtypes: bool(4), float64(6), int64(3), object(26)\n",
      "memory usage: 95.8+ KB\n"
     ]
    }
   ],
   "metadata": {}
  },
  {
   "cell_type": "code",
   "execution_count": 33,
   "source": [
    "tweets.head()"
   ],
   "outputs": [
    {
     "output_type": "execute_result",
     "data": {
      "text/html": [
       "<div>\n",
       "<style scoped>\n",
       "    .dataframe tbody tr th:only-of-type {\n",
       "        vertical-align: middle;\n",
       "    }\n",
       "\n",
       "    .dataframe tbody tr th {\n",
       "        vertical-align: top;\n",
       "    }\n",
       "\n",
       "    .dataframe thead th {\n",
       "        text-align: right;\n",
       "    }\n",
       "</style>\n",
       "<table border=\"1\" class=\"dataframe\">\n",
       "  <thead>\n",
       "    <tr style=\"text-align: right;\">\n",
       "      <th></th>\n",
       "      <th>id</th>\n",
       "      <th>id_str</th>\n",
       "      <th>full_text</th>\n",
       "      <th>truncated</th>\n",
       "      <th>display_text_range</th>\n",
       "      <th>entities</th>\n",
       "      <th>metadata</th>\n",
       "      <th>source</th>\n",
       "      <th>in_reply_to_status_id</th>\n",
       "      <th>in_reply_to_status_id_str</th>\n",
       "      <th>...</th>\n",
       "      <th>possibly_sensitive</th>\n",
       "      <th>quoted_status_id</th>\n",
       "      <th>quoted_status_id_str</th>\n",
       "      <th>quoted_status</th>\n",
       "      <th>scores</th>\n",
       "      <th>compound</th>\n",
       "      <th>sentiment</th>\n",
       "      <th>centroid</th>\n",
       "      <th>long</th>\n",
       "      <th>lat</th>\n",
       "    </tr>\n",
       "    <tr>\n",
       "      <th>created_at</th>\n",
       "      <th></th>\n",
       "      <th></th>\n",
       "      <th></th>\n",
       "      <th></th>\n",
       "      <th></th>\n",
       "      <th></th>\n",
       "      <th></th>\n",
       "      <th></th>\n",
       "      <th></th>\n",
       "      <th></th>\n",
       "      <th></th>\n",
       "      <th></th>\n",
       "      <th></th>\n",
       "      <th></th>\n",
       "      <th></th>\n",
       "      <th></th>\n",
       "      <th></th>\n",
       "      <th></th>\n",
       "      <th></th>\n",
       "      <th></th>\n",
       "      <th></th>\n",
       "    </tr>\n",
       "  </thead>\n",
       "  <tbody>\n",
       "    <tr>\n",
       "      <th>2021-08-27 18:34:28+00:00</th>\n",
       "      <td>1431324248107151361</td>\n",
       "      <td>1431324248107151361</td>\n",
       "      <td>RT @RedHat: The results are in. #RedHat @OpenS...</td>\n",
       "      <td>False</td>\n",
       "      <td>[0, 140]</td>\n",
       "      <td>{'hashtags': [{'text': 'RedHat', 'indices': [3...</td>\n",
       "      <td>{'iso_language_code': 'en', 'result_type': 're...</td>\n",
       "      <td>&lt;a href=\"https://mobile.twitter.com\" rel=\"nofo...</td>\n",
       "      <td>NaN</td>\n",
       "      <td>None</td>\n",
       "      <td>...</td>\n",
       "      <td>NaN</td>\n",
       "      <td>NaN</td>\n",
       "      <td>NaN</td>\n",
       "      <td>NaN</td>\n",
       "      <td>{'neg': 0.0, 'neu': 0.922, 'pos': 0.078, 'comp...</td>\n",
       "      <td>0.1779</td>\n",
       "      <td>pos</td>\n",
       "      <td>(None, None)</td>\n",
       "      <td>NaN</td>\n",
       "      <td>NaN</td>\n",
       "    </tr>\n",
       "    <tr>\n",
       "      <th>2021-08-27 18:30:02+00:00</th>\n",
       "      <td>1431323135501078532</td>\n",
       "      <td>1431323135501078532</td>\n",
       "      <td>The results are in. #RedHat @OpenShift managed...</td>\n",
       "      <td>False</td>\n",
       "      <td>[0, 162]</td>\n",
       "      <td>{'hashtags': [{'text': 'RedHat', 'indices': [2...</td>\n",
       "      <td>{'iso_language_code': 'en', 'result_type': 're...</td>\n",
       "      <td>&lt;a href=\"https://sproutsocial.com\" rel=\"nofoll...</td>\n",
       "      <td>NaN</td>\n",
       "      <td>None</td>\n",
       "      <td>...</td>\n",
       "      <td>False</td>\n",
       "      <td>NaN</td>\n",
       "      <td>NaN</td>\n",
       "      <td>NaN</td>\n",
       "      <td>{'neg': 0.0, 'neu': 0.925, 'pos': 0.075, 'comp...</td>\n",
       "      <td>0.1779</td>\n",
       "      <td>pos</td>\n",
       "      <td>(None, None)</td>\n",
       "      <td>NaN</td>\n",
       "      <td>NaN</td>\n",
       "    </tr>\n",
       "    <tr>\n",
       "      <th>2021-08-27 18:25:29+00:00</th>\n",
       "      <td>1431321989256450053</td>\n",
       "      <td>1431321989256450053</td>\n",
       "      <td>RT @Super_Launcher: Join the #birdies 🐦and our...</td>\n",
       "      <td>False</td>\n",
       "      <td>[0, 139]</td>\n",
       "      <td>{'hashtags': [{'text': 'birdies', 'indices': [...</td>\n",
       "      <td>{'iso_language_code': 'zh', 'result_type': 're...</td>\n",
       "      <td>&lt;a href=\"https://mobile.twitter.com\" rel=\"nofo...</td>\n",
       "      <td>NaN</td>\n",
       "      <td>None</td>\n",
       "      <td>...</td>\n",
       "      <td>False</td>\n",
       "      <td>1.430747e+18</td>\n",
       "      <td>1430747275559538691</td>\n",
       "      <td>NaN</td>\n",
       "      <td>{'neg': 0.0, 'neu': 0.612, 'pos': 0.388, 'comp...</td>\n",
       "      <td>0.8858</td>\n",
       "      <td>pos</td>\n",
       "      <td>(None, None)</td>\n",
       "      <td>NaN</td>\n",
       "      <td>NaN</td>\n",
       "    </tr>\n",
       "    <tr>\n",
       "      <th>2021-08-27 18:23:04+00:00</th>\n",
       "      <td>1431321382491672584</td>\n",
       "      <td>1431321382491672584</td>\n",
       "      <td>RT @lailah_grant: How my good Networking &amp;amp;...</td>\n",
       "      <td>False</td>\n",
       "      <td>[0, 144]</td>\n",
       "      <td>{'hashtags': [{'text': 'programmer', 'indices'...</td>\n",
       "      <td>{'iso_language_code': 'en', 'result_type': 're...</td>\n",
       "      <td>&lt;a href=\"https://www.fabricio-dev.com.br/\" rel...</td>\n",
       "      <td>NaN</td>\n",
       "      <td>None</td>\n",
       "      <td>...</td>\n",
       "      <td>NaN</td>\n",
       "      <td>1.364264e+18</td>\n",
       "      <td>1364264096422633474</td>\n",
       "      <td>NaN</td>\n",
       "      <td>{'neg': 0.0, 'neu': 0.818, 'pos': 0.182, 'comp...</td>\n",
       "      <td>0.5826</td>\n",
       "      <td>pos</td>\n",
       "      <td>(None, None)</td>\n",
       "      <td>NaN</td>\n",
       "      <td>NaN</td>\n",
       "    </tr>\n",
       "    <tr>\n",
       "      <th>2021-08-27 18:23:04+00:00</th>\n",
       "      <td>1431321382353256450</td>\n",
       "      <td>1431321382353256450</td>\n",
       "      <td>RT @lailah_grant: Day x of Learn on job, was d...</td>\n",
       "      <td>False</td>\n",
       "      <td>[0, 144]</td>\n",
       "      <td>{'hashtags': [], 'symbols': [], 'user_mentions...</td>\n",
       "      <td>{'iso_language_code': 'en', 'result_type': 're...</td>\n",
       "      <td>&lt;a href=\"https://www.fabricio-dev.com.br/\" rel...</td>\n",
       "      <td>NaN</td>\n",
       "      <td>None</td>\n",
       "      <td>...</td>\n",
       "      <td>NaN</td>\n",
       "      <td>NaN</td>\n",
       "      <td>NaN</td>\n",
       "      <td>NaN</td>\n",
       "      <td>{'neg': 0.073, 'neu': 0.846, 'pos': 0.081, 'co...</td>\n",
       "      <td>0.0516</td>\n",
       "      <td>pos</td>\n",
       "      <td>(None, None)</td>\n",
       "      <td>NaN</td>\n",
       "      <td>NaN</td>\n",
       "    </tr>\n",
       "  </tbody>\n",
       "</table>\n",
       "<p>5 rows × 39 columns</p>\n",
       "</div>"
      ],
      "text/plain": [
       "                                            id               id_str  \\\n",
       "created_at                                                            \n",
       "2021-08-27 18:34:28+00:00  1431324248107151361  1431324248107151361   \n",
       "2021-08-27 18:30:02+00:00  1431323135501078532  1431323135501078532   \n",
       "2021-08-27 18:25:29+00:00  1431321989256450053  1431321989256450053   \n",
       "2021-08-27 18:23:04+00:00  1431321382491672584  1431321382491672584   \n",
       "2021-08-27 18:23:04+00:00  1431321382353256450  1431321382353256450   \n",
       "\n",
       "                                                                   full_text  \\\n",
       "created_at                                                                     \n",
       "2021-08-27 18:34:28+00:00  RT @RedHat: The results are in. #RedHat @OpenS...   \n",
       "2021-08-27 18:30:02+00:00  The results are in. #RedHat @OpenShift managed...   \n",
       "2021-08-27 18:25:29+00:00  RT @Super_Launcher: Join the #birdies 🐦and our...   \n",
       "2021-08-27 18:23:04+00:00  RT @lailah_grant: How my good Networking &amp;...   \n",
       "2021-08-27 18:23:04+00:00  RT @lailah_grant: Day x of Learn on job, was d...   \n",
       "\n",
       "                           truncated display_text_range  \\\n",
       "created_at                                                \n",
       "2021-08-27 18:34:28+00:00      False           [0, 140]   \n",
       "2021-08-27 18:30:02+00:00      False           [0, 162]   \n",
       "2021-08-27 18:25:29+00:00      False           [0, 139]   \n",
       "2021-08-27 18:23:04+00:00      False           [0, 144]   \n",
       "2021-08-27 18:23:04+00:00      False           [0, 144]   \n",
       "\n",
       "                                                                    entities  \\\n",
       "created_at                                                                     \n",
       "2021-08-27 18:34:28+00:00  {'hashtags': [{'text': 'RedHat', 'indices': [3...   \n",
       "2021-08-27 18:30:02+00:00  {'hashtags': [{'text': 'RedHat', 'indices': [2...   \n",
       "2021-08-27 18:25:29+00:00  {'hashtags': [{'text': 'birdies', 'indices': [...   \n",
       "2021-08-27 18:23:04+00:00  {'hashtags': [{'text': 'programmer', 'indices'...   \n",
       "2021-08-27 18:23:04+00:00  {'hashtags': [], 'symbols': [], 'user_mentions...   \n",
       "\n",
       "                                                                    metadata  \\\n",
       "created_at                                                                     \n",
       "2021-08-27 18:34:28+00:00  {'iso_language_code': 'en', 'result_type': 're...   \n",
       "2021-08-27 18:30:02+00:00  {'iso_language_code': 'en', 'result_type': 're...   \n",
       "2021-08-27 18:25:29+00:00  {'iso_language_code': 'zh', 'result_type': 're...   \n",
       "2021-08-27 18:23:04+00:00  {'iso_language_code': 'en', 'result_type': 're...   \n",
       "2021-08-27 18:23:04+00:00  {'iso_language_code': 'en', 'result_type': 're...   \n",
       "\n",
       "                                                                      source  \\\n",
       "created_at                                                                     \n",
       "2021-08-27 18:34:28+00:00  <a href=\"https://mobile.twitter.com\" rel=\"nofo...   \n",
       "2021-08-27 18:30:02+00:00  <a href=\"https://sproutsocial.com\" rel=\"nofoll...   \n",
       "2021-08-27 18:25:29+00:00  <a href=\"https://mobile.twitter.com\" rel=\"nofo...   \n",
       "2021-08-27 18:23:04+00:00  <a href=\"https://www.fabricio-dev.com.br/\" rel...   \n",
       "2021-08-27 18:23:04+00:00  <a href=\"https://www.fabricio-dev.com.br/\" rel...   \n",
       "\n",
       "                           in_reply_to_status_id in_reply_to_status_id_str  \\\n",
       "created_at                                                                   \n",
       "2021-08-27 18:34:28+00:00                    NaN                      None   \n",
       "2021-08-27 18:30:02+00:00                    NaN                      None   \n",
       "2021-08-27 18:25:29+00:00                    NaN                      None   \n",
       "2021-08-27 18:23:04+00:00                    NaN                      None   \n",
       "2021-08-27 18:23:04+00:00                    NaN                      None   \n",
       "\n",
       "                           ...  possibly_sensitive quoted_status_id  \\\n",
       "created_at                 ...                                        \n",
       "2021-08-27 18:34:28+00:00  ...                 NaN              NaN   \n",
       "2021-08-27 18:30:02+00:00  ...               False              NaN   \n",
       "2021-08-27 18:25:29+00:00  ...               False     1.430747e+18   \n",
       "2021-08-27 18:23:04+00:00  ...                 NaN     1.364264e+18   \n",
       "2021-08-27 18:23:04+00:00  ...                 NaN              NaN   \n",
       "\n",
       "                          quoted_status_id_str quoted_status  \\\n",
       "created_at                                                     \n",
       "2021-08-27 18:34:28+00:00                  NaN           NaN   \n",
       "2021-08-27 18:30:02+00:00                  NaN           NaN   \n",
       "2021-08-27 18:25:29+00:00  1430747275559538691           NaN   \n",
       "2021-08-27 18:23:04+00:00  1364264096422633474           NaN   \n",
       "2021-08-27 18:23:04+00:00                  NaN           NaN   \n",
       "\n",
       "                                                                      scores  \\\n",
       "created_at                                                                     \n",
       "2021-08-27 18:34:28+00:00  {'neg': 0.0, 'neu': 0.922, 'pos': 0.078, 'comp...   \n",
       "2021-08-27 18:30:02+00:00  {'neg': 0.0, 'neu': 0.925, 'pos': 0.075, 'comp...   \n",
       "2021-08-27 18:25:29+00:00  {'neg': 0.0, 'neu': 0.612, 'pos': 0.388, 'comp...   \n",
       "2021-08-27 18:23:04+00:00  {'neg': 0.0, 'neu': 0.818, 'pos': 0.182, 'comp...   \n",
       "2021-08-27 18:23:04+00:00  {'neg': 0.073, 'neu': 0.846, 'pos': 0.081, 'co...   \n",
       "\n",
       "                          compound sentiment      centroid long  lat  \n",
       "created_at                                                            \n",
       "2021-08-27 18:34:28+00:00   0.1779       pos  (None, None)  NaN  NaN  \n",
       "2021-08-27 18:30:02+00:00   0.1779       pos  (None, None)  NaN  NaN  \n",
       "2021-08-27 18:25:29+00:00   0.8858       pos  (None, None)  NaN  NaN  \n",
       "2021-08-27 18:23:04+00:00   0.5826       pos  (None, None)  NaN  NaN  \n",
       "2021-08-27 18:23:04+00:00   0.0516       pos  (None, None)  NaN  NaN  \n",
       "\n",
       "[5 rows x 39 columns]"
      ]
     },
     "metadata": {},
     "execution_count": 33
    }
   ],
   "metadata": {}
  },
  {
   "cell_type": "code",
   "execution_count": 17,
   "source": [
    "# Count of tweets by sentiment\n",
    "tweets.groupby('sentiment')['sentiment'].count()"
   ],
   "outputs": [
    {
     "output_type": "execute_result",
     "data": {
      "text/plain": [
       "sentiment\n",
       "neg     13\n",
       "neu    144\n",
       "pos    179\n",
       "Name: sentiment, dtype: int64"
      ]
     },
     "metadata": {},
     "execution_count": 17
    }
   ],
   "metadata": {}
  },
  {
   "cell_type": "code",
   "execution_count": 45,
   "source": [
    "# Count of tweets by author and show the top 10\n",
    "tweets.groupby('user-screen_name')['user-screen_name'].count().nlargest(10)"
   ],
   "outputs": [
    {
     "output_type": "execute_result",
     "data": {
      "text/plain": [
       "user-screen_name\n",
       "schestowitz      13\n",
       "jwsmithinfo       8\n",
       "uiraribeiro       8\n",
       "aespejo9          5\n",
       "danieloh30        5\n",
       "sarimzia          5\n",
       "DivineOps         4\n",
       "RedHatJobs        4\n",
       "1Lpic             3\n",
       "Discovertech3     3\n",
       "Name: user-screen_name, dtype: int64"
      ]
     },
     "metadata": {},
     "execution_count": 45
    }
   ],
   "metadata": {}
  },
  {
   "cell_type": "code",
   "execution_count": 44,
   "source": [
    "# Let's get an idea of what the sentiment is by author\n",
    "tweets.groupby(['user-screen_name', 'sentiment'])['sentiment'].count()"
   ],
   "outputs": [
    {
     "output_type": "execute_result",
     "data": {
      "text/plain": [
       "user-screen_name  sentiment\n",
       "100DaysOf2020     neu          1\n",
       "1Lpic             neu          2\n",
       "                  pos          1\n",
       "2017_CB           neu          1\n",
       "APEX_60MPH        neu          1\n",
       "                              ..\n",
       "waqasdaha         pos          1\n",
       "wayneariola       pos          1\n",
       "westurner         neg          1\n",
       "                  neu          1\n",
       "zerobanana        neu          1\n",
       "Name: sentiment, Length: 270, dtype: int64"
      ]
     },
     "metadata": {},
     "execution_count": 44
    }
   ],
   "metadata": {}
  },
  {
   "cell_type": "code",
   "execution_count": 47,
   "source": [
    "# Let's get the mean / average of the compound score by sentiment.\n",
    "tweets.groupby('sentiment')['compound'].mean()"
   ],
   "outputs": [
    {
     "output_type": "execute_result",
     "data": {
      "text/plain": [
       "sentiment\n",
       "neg   -0.457415\n",
       "neu    0.000000\n",
       "pos    0.509727\n",
       "Name: compound, dtype: float64"
      ]
     },
     "metadata": {},
     "execution_count": 47
    }
   ],
   "metadata": {}
  }
 ],
 "metadata": {
  "kernelspec": {
   "name": "python3",
   "display_name": "Python 3.8.10 64-bit"
  },
  "language_info": {
   "codemirror_mode": {
    "name": "ipython",
    "version": 3
   },
   "file_extension": ".py",
   "mimetype": "text/x-python",
   "name": "python",
   "nbconvert_exporter": "python",
   "pygments_lexer": "ipython3",
   "version": "3.8.10"
  },
  "interpreter": {
   "hash": "dca0ade3e726a953b501b15e8e990130d2b7799f14cfd9f4271676035ebe5511"
  }
 },
 "nbformat": 4,
 "nbformat_minor": 5
}